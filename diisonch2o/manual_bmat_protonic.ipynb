{
 "cells": [
  {
   "cell_type": "code",
   "execution_count": 4,
   "id": "c9be2de4",
   "metadata": {},
   "outputs": [],
   "source": [
    "from __future__ import division\n",
    "import numpy as np\n",
    "import scipy.linalg as slg\n",
    "import math\n",
    "import sys\n",
    "from numpy import genfromtxt\n",
    "import csv\n",
    "from numpy import linalg as LA\n",
    "from numpy.linalg import inv"
   ]
  },
  {
   "cell_type": "markdown",
   "id": "3c073dd8",
   "metadata": {},
   "source": [
    "## Output Processing Functions"
   ]
  },
  {
   "cell_type": "code",
   "execution_count": 5,
   "id": "1ae24228",
   "metadata": {},
   "outputs": [],
   "source": [
    "def str2float(s):\n",
    "    return float(s.replace('D','e'))\n",
    "\n",
    "def CutLTMatOut(fname, head_line, index=0):\n",
    "    cur_index = 0\n",
    "    f = open(fname)\n",
    "    status = None\n",
    "    r = 0\n",
    "    indices = []\n",
    "    mat = []\n",
    "    for line in f:\n",
    "        if head_line in line:\n",
    "            status = \"Column Indices\"\n",
    "            continue\n",
    "        if status == \"Rows\":\n",
    "            splitted = line.split()\n",
    "            if all([x.isnumeric() for x in splitted]):\n",
    "                status = \"Column Indices\"\n",
    "            else:\n",
    "                try:\n",
    "                    r = int(splitted[0])\n",
    "                    floats = [str2float(s) for s in splitted[1:]]\n",
    "                    if len(mat) < r:\n",
    "                        mat.append(floats)\n",
    "                    else:\n",
    "                        mat[r-1] += floats\n",
    "                except ValueError as e:\n",
    "                    break\n",
    "                continue\n",
    "        if status == \"Column Indices\":\n",
    "            status = \"Rows\"\n",
    "            indices = [int(I) for I in line.split()]\n",
    "            continue\n",
    "    f.close()\n",
    "    return mat\n",
    "\n",
    "def toNPMatrix(mat_array, symmetry = 'symmetric'):\n",
    "    dim = len(mat_array)\n",
    "    mat = np.zeros((dim,dim))\n",
    "    for i in range(dim):\n",
    "        mat[i,:i+1] = mat_array[i]\n",
    "    if symmetry == 'symmetric':\n",
    "        diag = np.diag(np.diag(mat))\n",
    "        return mat + mat.T - diag\n",
    "    elif symmetry == 'anti-symmetric':\n",
    "        return mat - mat.T\n",
    "\n",
    "\n",
    "def ReadMatrix(fname, head_line, index=0):\n",
    "    return np.array(CutLTMatOut(fname, head_line, index))\n",
    "\n",
    "def ReadLowerTri(fname, head_line, index=0, symmetry = 'symmetric'):\n",
    "    return toNPMatrix(CutLTMatOut(fname, head_line, index), symmetry)\n",
    "\n",
    "def outMatrix(A):\n",
    "    if np.iscomplexobj(A):\n",
    "        print(\"Real part:\")\n",
    "        outMatrix(A.real)\n",
    "        print()\n",
    "        print(\"Imag part:\")\n",
    "        outMatrix(A.imag)\n",
    "        return\n",
    "    print(\"--------------------------------------------------------------------------------\")\n",
    "    curColStart, curColEnd = 0, 5\n",
    "    while curColStart < A.shape[1]:\n",
    "        curColEnd = min(curColStart + 5, A.shape[1])\n",
    "        print(\"     \"+\"               \".join(list(map(str, range(curColStart + 1, curColEnd + 1)))))\n",
    "        for i in range(A.shape[0]):\n",
    "            print(\"%3d   \"%(i+1,) + \" \".join(list(map(lambda x : \"%15.8e\"%(x if abs(x) > 1e-8 else 0,) , A[i, curColStart : curColEnd]))))\n",
    "        curColStart += 5\n",
    "        print()\n",
    "\n",
    "    print(\"--------------------------------------------------------------------------------\")\n",
    "\n",
    "def RMSD(V, W):\n",
    "    \"\"\"\n",
    "    Calculate Root-mean-square deviation from two sets of vectors V and W.\n",
    "    Parameters\n",
    "    ----------\n",
    "    V : array\n",
    "        (N,D) matrix, where N is points and D is dimension.\n",
    "    W : array\n",
    "        (N,D) matrix, where N is points and D is dimension.\n",
    "    Returns\n",
    "    -------\n",
    "    rmsd : float\n",
    "        Root-mean-square deviation between the two vectors\n",
    "    \"\"\"\n",
    "    diff = np.array(V) - np.array(W)\n",
    "    N = len(V)\n",
    "    return np.sqrt((diff * diff).sum() / N)\n",
    "    "
   ]
  },
  {
   "cell_type": "markdown",
   "id": "24ccf128",
   "metadata": {},
   "source": [
    "# Error Matrix Calculation Functions"
   ]
  },
  {
   "cell_type": "code",
   "execution_count": 15,
   "id": "4bc7f3e2",
   "metadata": {},
   "outputs": [],
   "source": [
    "def getErrorMatrix(F,P,S,V,printlevel):\n",
    "    FPS = np.dot(np.dot(F, P), S)\n",
    "\n",
    "    e_AO = FPS - FPS.transpose()\n",
    "\n",
    "    e_ON = np.dot(V.transpose(), np.dot(e_AO, V))\n",
    "\n",
    "    if (printlevel >= 1):\n",
    "        if (printlevel >= 2):\n",
    "            print('F')\n",
    "            outMatrix(F)\n",
    "            print('P')\n",
    "            outMatrix(P)\n",
    "            print('FP')\n",
    "            outMatrix(np.dot(F, P))\n",
    "            print('S')   \n",
    "            outMatrix(S)\n",
    "        print('FPS')\n",
    "        outMatrix(FPS)\n",
    "        print('e_AO')\n",
    "        outMatrix(e_AO)\n",
    "        if (printlevel >= 2):\n",
    "            print('V')\n",
    "            outMatrix(V)\n",
    "        print('e_ON')\n",
    "        outMatrix(e_ON)\n",
    "    return  e_ON"
   ]
  },
  {
   "cell_type": "code",
   "execution_count": 16,
   "id": "ae7e953b",
   "metadata": {},
   "outputs": [],
   "source": [
    "def getBmatrix(E_list):\n",
    "    Bsize = len(E_list)\n",
    "    B = np.zeros((Bsize+1,Bsize+1))\n",
    "    \n",
    "    B[0,0] = 0.00\n",
    "    for i in range(1,Bsize+1):\n",
    "        B[i,0] = -1\n",
    "        B[0,i] = -1\n",
    "        B[i,i] = np.trace(np.dot(E_list[i-1].T,E_list[i-1]))\n",
    "        for j in range(i+1,Bsize+1):\n",
    "            B[i,j] = np.trace(np.dot(E_list[i-1].T,E_list[j-1]))\n",
    "            B[j,i] = B[i,j]\n",
    "        \n",
    "    return B"
   ]
  },
  {
   "cell_type": "code",
   "execution_count": 17,
   "id": "cf81b766",
   "metadata": {},
   "outputs": [],
   "source": [
    "def newF(F_list, B):\n",
    "    Fsize = len(F_list)\n",
    "    NBasis = F_list[0].shape[0]\n",
    "    \n",
    "    F = np.zeros((NBasis,NBasis))\n",
    "    for i in range(Fsize):\n",
    "        ci = inv(B)[:,0][1:][i] * (-1)\n",
    "        print('c' + str(i) + ': ', ci)\n",
    "        F += ci * F_list[i]\n",
    "    return F"
   ]
  },
  {
   "cell_type": "markdown",
   "id": "0d62409b",
   "metadata": {},
   "source": [
    "## Manually Calculating B-matrix by Reading QC's F and P"
   ]
  },
  {
   "cell_type": "code",
   "execution_count": 18,
   "id": "3dd24f2d",
   "metadata": {},
   "outputs": [],
   "source": [
    "fname_fulllog = \"/Users/aodongliu/LiGroup/gaussian/manual_calculation/neo_small_basis_stw.log\"\n",
    "fname = \"./Formaldehyde_STWDIIS.out\"\n",
    "prot_S_headline = 'Prot S Matrix:          0:'\n",
    "prot_V_headline = 'V for IR=Prot          1'\n",
    "prot_S = ReadLowerTri(fname_fulllog, prot_S_headline)\n",
    "prot_V = ReadMatrix(fname_fulllog, prot_V_headline)\n"
   ]
  },
  {
   "cell_type": "code",
   "execution_count": 19,
   "id": "7de702d0",
   "metadata": {},
   "outputs": [
    {
     "name": "stdout",
     "output_type": "stream",
     "text": [
      "Manually Calculated B-matrix\n",
      "--------------------------------------------------------------------------------\n",
      "     1               2\n",
      "  1    0.00000000e+00 -1.00000000e+00\n",
      "  2   -1.00000000e+00  5.74531055e-03\n",
      "\n",
      "--------------------------------------------------------------------------------\n",
      "c0:  1.0\n"
     ]
    }
   ],
   "source": [
    "Fp1_headline = 'Fock Matrix1:'\n",
    "Fp1 = ReadMatrix(fname, Fp1_headline)\n",
    "Pp1_headline = 'Density Matrix1:'\n",
    "Pp1 = ReadMatrix(fname, Pp1_headline)\n",
    "\n",
    "e1_manual_ON = getErrorMatrix(Fp1,Pp1,prot_S,prot_V,0)\n",
    "E_list = [e1_manual_ON]\n",
    "F_list = [Fp1]\n",
    "\n",
    "B = getBmatrix(E_list)\n",
    "print('Manually Calculated B-matrix')\n",
    "outMatrix(B)\n",
    "\n",
    "newF_B1 = newF(F_list,B)"
   ]
  },
  {
   "cell_type": "code",
   "execution_count": 20,
   "id": "87d36539",
   "metadata": {},
   "outputs": [
    {
     "name": "stdout",
     "output_type": "stream",
     "text": [
      "Manually Calculated B-matrix\n",
      "--------------------------------------------------------------------------------\n",
      "     1               2               3\n",
      "  1    0.00000000e+00 -1.00000000e+00 -1.00000000e+00\n",
      "  2   -1.00000000e+00  5.74531055e-03  5.39736505e-03\n",
      "  3   -1.00000000e+00  5.39736505e-03  5.07161404e-03\n",
      "\n",
      "--------------------------------------------------------------------------------\n",
      "c0:  -14.677109448504057\n",
      "c1:  15.677109448504057\n"
     ]
    }
   ],
   "source": [
    "Fp2_headline = 'Fock Matrix2:'\n",
    "Fp2 = ReadMatrix(fname, Fp2_headline)\n",
    "Pp2_headline = 'Density Matrix2:'\n",
    "Pp2 = ReadMatrix(fname, Pp2_headline)\n",
    "\n",
    "e2_manual_ON = getErrorMatrix(Fp2,Pp2,prot_S,prot_V,0)\n",
    "E_list.append(e2_manual_ON)\n",
    "F_list.append(Fp2)\n",
    "\n",
    "B = getBmatrix(E_list)\n",
    "print('Manually Calculated B-matrix')\n",
    "outMatrix(B)\n",
    "\n",
    "newF_B2 = newF(F_list,B)"
   ]
  },
  {
   "cell_type": "code",
   "execution_count": 21,
   "id": "baab6c33",
   "metadata": {},
   "outputs": [
    {
     "name": "stdout",
     "output_type": "stream",
     "text": [
      "Manually Calculated B-matrix\n",
      "--------------------------------------------------------------------------------\n",
      "     1               2               3               4\n",
      "  1    0.00000000e+00 -1.00000000e+00 -1.00000000e+00 -1.00000000e+00\n",
      "  2   -1.00000000e+00  5.74531055e-03  5.39736505e-03  3.15496953e-04\n",
      "  3   -1.00000000e+00  5.39736505e-03  5.07161404e-03  3.11951568e-04\n",
      "  4   -1.00000000e+00  3.15496953e-04  3.11951568e-04  2.40086021e-04\n",
      "\n",
      "--------------------------------------------------------------------------------\n",
      "c0:  28.814033363178726\n",
      "c1:  -30.80983421702675\n",
      "c2:  2.995800853848024\n"
     ]
    }
   ],
   "source": [
    "Fp3_headline = 'Fock Matrix3:'\n",
    "Fp3 = ReadMatrix(fname, Fp3_headline)\n",
    "Pp3_headline = 'Density Matrix3:'\n",
    "Pp3 = ReadMatrix(fname, Pp3_headline)\n",
    "\n",
    "e3_manual_ON = getErrorMatrix(Fp3,Pp3,prot_S,prot_V,0)\n",
    "E_list.append(e3_manual_ON)\n",
    "F_list.append(Fp3)\n",
    "\n",
    "B = getBmatrix(E_list)\n",
    "print('Manually Calculated B-matrix')\n",
    "outMatrix(B)\n",
    "\n",
    "newF_B3 = newF(F_list,B)"
   ]
  },
  {
   "cell_type": "code",
   "execution_count": 22,
   "id": "99184ff6",
   "metadata": {},
   "outputs": [
    {
     "name": "stdout",
     "output_type": "stream",
     "text": [
      "Manually Calculated B-matrix\n",
      "--------------------------------------------------------------------------------\n",
      "     1               2               3               4               5\n",
      "  1    0.00000000e+00 -1.00000000e+00 -1.00000000e+00 -1.00000000e+00 -1.00000000e+00\n",
      "  2   -1.00000000e+00  5.74531055e-03  5.39736505e-03  3.15496953e-04  1.22133714e-04\n",
      "  3   -1.00000000e+00  5.39736505e-03  5.07161404e-03  3.11951568e-04  1.28420628e-04\n",
      "  4   -1.00000000e+00  3.15496953e-04  3.11951568e-04  2.40086021e-04  2.02859288e-04\n",
      "  5   -1.00000000e+00  1.22133714e-04  1.28420628e-04  2.02859288e-04  1.75329246e-04\n",
      "\n",
      "--------------------------------------------------------------------------------\n",
      "c0:  -3.378764171173729\n",
      "c1:  3.813069512997166\n",
      "c2:  -6.400229300873277\n",
      "c3:  6.96592395904984\n"
     ]
    }
   ],
   "source": [
    "Fp4_headline = 'Fock Matrix4:'\n",
    "Fp4 = ReadMatrix(fname, Fp4_headline)\n",
    "Pp4_headline = 'Density Matrix4:'\n",
    "Pp4 = ReadMatrix(fname, Pp4_headline)\n",
    "\n",
    "e4_manual_ON = getErrorMatrix(Fp4,Pp4,prot_S,prot_V,0)\n",
    "E_list.append(e4_manual_ON)\n",
    "F_list.append(Fp4)\n",
    "\n",
    "B = getBmatrix(E_list)\n",
    "print('Manually Calculated B-matrix')\n",
    "outMatrix(B)\n",
    "\n",
    "newF_B4 = newF(F_list,B)"
   ]
  },
  {
   "cell_type": "code",
   "execution_count": 23,
   "id": "d580182e",
   "metadata": {},
   "outputs": [
    {
     "name": "stdout",
     "output_type": "stream",
     "text": [
      "Manually Calculated B-matrix\n",
      "--------------------------------------------------------------------------------\n",
      "     1               2               3               4               5\n",
      "  1    0.00000000e+00 -1.00000000e+00 -1.00000000e+00 -1.00000000e+00 -1.00000000e+00\n",
      "  2   -1.00000000e+00  5.74531055e-03  5.39736505e-03  3.15496953e-04  1.22133714e-04\n",
      "  3   -1.00000000e+00  5.39736505e-03  5.07161404e-03  3.11951568e-04  1.28420628e-04\n",
      "  4   -1.00000000e+00  3.15496953e-04  3.11951568e-04  2.40086021e-04  2.02859288e-04\n",
      "  5   -1.00000000e+00  1.22133714e-04  1.28420628e-04  2.02859288e-04  1.75329246e-04\n",
      "  6   -1.00000000e+00  9.05828884e-07  8.23394182e-07 -3.48498690e-07 -3.31549499e-07\n",
      "\n",
      "     6\n",
      "  1   -1.00000000e+00\n",
      "  2    9.05828884e-07\n",
      "  3    8.23394182e-07\n",
      "  4   -3.48498690e-07\n",
      "  5   -3.31549499e-07\n",
      "  6    0.00000000e+00\n",
      "\n",
      "--------------------------------------------------------------------------------\n",
      "c0:  0.03605603398981608\n",
      "c1:  -0.04059160380440345\n",
      "c2:  0.05870702837942072\n",
      "c3:  -0.061405477908906984\n",
      "c4:  1.0072340193440736\n"
     ]
    }
   ],
   "source": [
    "Fp5_headline = 'Fock Matrix5:'\n",
    "Fp5 = ReadMatrix(fname, Fp5_headline)\n",
    "Pp5_headline = 'Density Matrix5:'\n",
    "Pp5 = ReadMatrix(fname, Pp5_headline)\n",
    "\n",
    "e5_manual_ON = getErrorMatrix(Fp5,Pp5,prot_S,prot_V,0)\n",
    "E_list.append(e5_manual_ON)\n",
    "F_list.append(Fp5)\n",
    "\n",
    "B = getBmatrix(E_list)\n",
    "print('Manually Calculated B-matrix')\n",
    "outMatrix(B)\n",
    "\n",
    "newF_B5 = newF(F_list,B)"
   ]
  },
  {
   "cell_type": "code",
   "execution_count": null,
   "id": "95be824b",
   "metadata": {},
   "outputs": [],
   "source": []
  },
  {
   "cell_type": "code",
   "execution_count": null,
   "id": "70eeab92",
   "metadata": {},
   "outputs": [],
   "source": []
  },
  {
   "cell_type": "code",
   "execution_count": null,
   "id": "7b65f3e2",
   "metadata": {},
   "outputs": [],
   "source": []
  },
  {
   "cell_type": "code",
   "execution_count": null,
   "id": "388dc792",
   "metadata": {},
   "outputs": [],
   "source": []
  },
  {
   "cell_type": "code",
   "execution_count": null,
   "id": "ef3a1b4d",
   "metadata": {},
   "outputs": [],
   "source": []
  },
  {
   "cell_type": "code",
   "execution_count": null,
   "id": "d455f0e3",
   "metadata": {},
   "outputs": [],
   "source": []
  },
  {
   "cell_type": "code",
   "execution_count": null,
   "id": "8393b810",
   "metadata": {},
   "outputs": [],
   "source": []
  },
  {
   "cell_type": "markdown",
   "id": "81dcefc6",
   "metadata": {},
   "source": [
    "## Manually Form Protonic Density Matrix for QC"
   ]
  },
  {
   "cell_type": "code",
   "execution_count": 102,
   "id": "64d54d6b",
   "metadata": {},
   "outputs": [],
   "source": [
    "def compute_density(C, nbasis, NProt):\n",
    "    P = np.zeros((nbasis,nbasis)) \n",
    "    for sig in range(nbasis):\n",
    "        for lam in range(nbasis): \n",
    "            P[sig, lam] = 0.00\n",
    "            for i in range(0, NProt):  \n",
    "                P[sig, lam] += C[lam, i]*C[sig,i]\n",
    "    return P*2"
   ]
  },
  {
   "cell_type": "code",
   "execution_count": 103,
   "id": "ca84015f",
   "metadata": {},
   "outputs": [],
   "source": [
    "def compute_MO(F, V, nbasis):\n",
    "    F_prime =  np.dot(np.dot(V.T, F), V)\n",
    "\n",
    "    epsilon, C_prime  = LA.eigh(F_prime)\n",
    "    \n",
    "    C = np.dot(V, C_prime)\n",
    "    return C"
   ]
  },
  {
   "cell_type": "code",
   "execution_count": 116,
   "id": "b0955176",
   "metadata": {},
   "outputs": [
    {
     "name": "stdout",
     "output_type": "stream",
     "text": [
      "Q-Chem Fock matrix at Iteration 1\n",
      "--------------------------------------------------------------------------------\n",
      "     1               2               3               4               5\n",
      "  1   -9.18184100e-01 -1.14653900e-01  0.00000000e+00  3.34838700e-01  0.00000000e+00\n",
      "  2   -1.14653900e-01  5.88567300e-01  0.00000000e+00  1.92540000e-03  0.00000000e+00\n",
      "  3    0.00000000e+00  0.00000000e+00  5.64247600e-01  0.00000000e+00  0.00000000e+00\n",
      "  4    3.34838700e-01  1.92540000e-03  0.00000000e+00  5.03341800e-01  0.00000000e+00\n",
      "  5    0.00000000e+00  0.00000000e+00  0.00000000e+00  0.00000000e+00 -9.18184100e-01\n",
      "  6    0.00000000e+00  0.00000000e+00  0.00000000e+00  0.00000000e+00  1.14653900e-01\n",
      "  7    0.00000000e+00  0.00000000e+00  0.00000000e+00  0.00000000e+00  0.00000000e+00\n",
      "  8    0.00000000e+00  0.00000000e+00  0.00000000e+00  0.00000000e+00  3.34838700e-01\n",
      "\n",
      "     6               7               8\n",
      "  1    0.00000000e+00  0.00000000e+00  0.00000000e+00\n",
      "  2    0.00000000e+00  0.00000000e+00  0.00000000e+00\n",
      "  3    0.00000000e+00  0.00000000e+00  0.00000000e+00\n",
      "  4    0.00000000e+00  0.00000000e+00  0.00000000e+00\n",
      "  5    1.14653900e-01  0.00000000e+00  3.34838700e-01\n",
      "  6    5.88567300e-01  0.00000000e+00 -1.92540000e-03\n",
      "  7    0.00000000e+00  5.64247600e-01  0.00000000e+00\n",
      "  8   -1.92540000e-03  0.00000000e+00  5.03341800e-01\n",
      "\n",
      "--------------------------------------------------------------------------------\n"
     ]
    }
   ],
   "source": [
    "print(\"Q-Chem Fock matrix at Iteration 1\")\n",
    "outMatrix(Fp1)"
   ]
  },
  {
   "cell_type": "code",
   "execution_count": 117,
   "id": "e1b93b4a",
   "metadata": {},
   "outputs": [
    {
     "name": "stdout",
     "output_type": "stream",
     "text": [
      "Coefficient Obtained by Diagonalizing Q-Chem Fock matrix at Iteration 1\n",
      "--------------------------------------------------------------------------------\n",
      "     1               2               3               4               5\n",
      "  1   -9.73325980e-01  2.57620019e-02  1.31241899e-01  5.15713708e-02  3.95443566e-08\n",
      "  2   -7.04656811e-02  1.86519755e-03  5.22171119e-01  2.05187496e-01  1.68468673e-07\n",
      "  3    0.00000000e+00  1.32021665e-08  1.96263025e-05 -4.97741760e-05  6.43441972e-01\n",
      "  4    2.16728348e-01 -5.73636460e-03  7.59181567e-01  2.98319751e-01  2.32832635e-07\n",
      "  5   -2.57620012e-02 -9.73325975e-01 -5.15714260e-02  1.31241870e-01  5.22575380e-06\n",
      "  6    1.86519738e-03  7.04656811e-02  2.05187307e-01 -5.22171445e-01 -1.78395170e-05\n",
      "  7    0.00000000e+00  0.00000000e+00  3.49433763e-07  2.88045053e-07 -7.65495403e-01\n",
      "  8    5.73637068e-03  2.16728264e-01 -2.98319856e-01  7.59181385e-01  2.92912793e-05\n",
      "\n",
      "     6               7               8\n",
      "  1   -4.46130538e-08  1.50938246e-01 -9.64707910e-02\n",
      "  2   -1.89006717e-07 -6.94962111e-01  4.44179379e-01\n",
      "  3    7.65495429e-01  1.75587264e-06  2.74949757e-06\n",
      "  4   -2.62149104e-07  4.51906977e-01 -2.88832262e-01\n",
      "  5    6.18719478e-06 -9.64707838e-02 -1.50938331e-01\n",
      "  6   -2.10964078e-05 -4.44179462e-01 -6.94961868e-01\n",
      "  7    6.43441996e-01  0.00000000e+00  0.00000000e+00\n",
      "  8    3.46719343e-05 -2.88832124e-01 -4.51907339e-01\n",
      "\n",
      "--------------------------------------------------------------------------------\n"
     ]
    }
   ],
   "source": [
    "nbasis = 8\n",
    "NProt = 2 \n",
    "C = compute_MO(Fp1, prot_V, nbasis)\n",
    "\n",
    "print(\"Coefficient Obtained by Diagonalizing Q-Chem Fock matrix at Iteration 1\")\n",
    "outMatrix(C)"
   ]
  },
  {
   "cell_type": "code",
   "execution_count": 118,
   "id": "332afb82",
   "metadata": {},
   "outputs": [
    {
     "name": "stdout",
     "output_type": "stream",
     "text": [
      "--------------------------------------------------------------------------------\n",
      "     1               2               3               4               5\n",
      "  1    1.89605429e+00  1.37268259e-01  0.00000000e+00 -4.22190224e-01  0.00000000e+00\n",
      "  2    1.37268259e-01  9.93778235e-03  0.00000000e+00 -3.05652202e-02 -2.16522630e-07\n",
      "  3    0.00000000e+00  0.00000000e+00  0.00000000e+00  0.00000000e+00 -2.57189395e-08\n",
      "  4   -4.22190224e-01 -3.05652202e-02  0.00000000e+00  9.40081655e-02  0.00000000e+00\n",
      "  5    0.00000000e+00 -2.16522630e-07 -2.57189395e-08  0.00000000e+00  1.89605427e+00\n",
      "  6   -2.16106774e-07  0.00000000e+00  0.00000000e+00  4.86159672e-08 -1.37268258e-01\n",
      "  7    0.00000000e+00  0.00000000e+00  0.00000000e+00  0.00000000e+00  0.00000000e+00\n",
      "  8    0.00000000e+00  4.75200816e-08  0.00000000e+00  0.00000000e+00 -4.22190058e-01\n",
      "\n",
      "     6               7               8\n",
      "  1   -2.16106774e-07  0.00000000e+00  0.00000000e+00\n",
      "  2    0.00000000e+00  0.00000000e+00  4.75200816e-08\n",
      "  3    0.00000000e+00  0.00000000e+00  0.00000000e+00\n",
      "  4    4.86159672e-08  0.00000000e+00  0.00000000e+00\n",
      "  5   -1.37268258e-01  0.00000000e+00 -4.22190058e-01\n",
      "  6    9.93778234e-03  0.00000000e+00  3.05652083e-02\n",
      "  7    0.00000000e+00  0.00000000e+00  0.00000000e+00\n",
      "  8    3.05652083e-02  0.00000000e+00  9.40080924e-02\n",
      "\n",
      "--------------------------------------------------------------------------------\n"
     ]
    }
   ],
   "source": [
    "P2Manual = compute_density(C, nbasis, NProt)\n",
    "outMatrix(P2Manual)"
   ]
  },
  {
   "cell_type": "code",
   "execution_count": 107,
   "id": "90b90b1d",
   "metadata": {},
   "outputs": [
    {
     "name": "stdout",
     "output_type": "stream",
     "text": [
      "2.9099362966464084e-07\n"
     ]
    }
   ],
   "source": [
    "print(RMSD(P2Manual,Pp2))"
   ]
  },
  {
   "cell_type": "code",
   "execution_count": 119,
   "id": "71023d14",
   "metadata": {},
   "outputs": [
    {
     "name": "stdout",
     "output_type": "stream",
     "text": [
      "1.2733991322597623e-05\n"
     ]
    }
   ],
   "source": [
    "C_B2 = compute_MO(newF_B2, prot_V, nbasis)\n",
    "P3Manual = compute_density(C_B2, nbasis, NProt)\n",
    "print(RMSD(P3Manual,Pp3))"
   ]
  },
  {
   "cell_type": "code",
   "execution_count": 120,
   "id": "898d13bb",
   "metadata": {},
   "outputs": [
    {
     "name": "stdout",
     "output_type": "stream",
     "text": [
      "3.7046745869741455e-05\n"
     ]
    }
   ],
   "source": [
    "C_B3 = compute_MO(newF_B3, prot_V, nbasis)\n",
    "P4Manual = compute_density(C_B3, nbasis, NProt)\n",
    "print(RMSD(P4Manual,Pp4))"
   ]
  },
  {
   "cell_type": "code",
   "execution_count": 121,
   "id": "4cb634dd",
   "metadata": {},
   "outputs": [
    {
     "name": "stdout",
     "output_type": "stream",
     "text": [
      "1.4262176422946815e-05\n"
     ]
    }
   ],
   "source": [
    "C_B4 = compute_MO(newF_B4, prot_V, nbasis)\n",
    "P5Manual = compute_density(C_B4, nbasis, NProt)\n",
    "print(RMSD(P5Manual,Pp5))"
   ]
  },
  {
   "cell_type": "markdown",
   "id": "8deea220",
   "metadata": {},
   "source": [
    "## Manually Form Protonic Density Matrix for Gaussian"
   ]
  },
  {
   "cell_type": "code",
   "execution_count": 111,
   "id": "a70801d2",
   "metadata": {},
   "outputs": [],
   "source": [
    "tempF =  ReadLowerTri('temp.txt', 'NewF from SCFDIS:          0:') "
   ]
  },
  {
   "cell_type": "code",
   "execution_count": 112,
   "id": "4fa09dfe",
   "metadata": {},
   "outputs": [
    {
     "name": "stdout",
     "output_type": "stream",
     "text": [
      "--------------------------------------------------------------------------------\n",
      "     1               2               3               4               5\n",
      "  1   -7.61727000e+00  3.60012000e-01  0.00000000e+00 -2.71172000e-01  0.00000000e+00\n",
      "  2    3.60012000e-01 -7.50947000e+00  0.00000000e+00  3.41655000e-02  0.00000000e+00\n",
      "  3    0.00000000e+00  0.00000000e+00 -7.45475000e+00  0.00000000e+00  0.00000000e+00\n",
      "  4   -2.71172000e-01  3.41655000e-02  0.00000000e+00 -7.48927000e+00  0.00000000e+00\n",
      "  5    0.00000000e+00  0.00000000e+00  0.00000000e+00  0.00000000e+00 -7.61727000e+00\n",
      "  6    0.00000000e+00  0.00000000e+00  0.00000000e+00  0.00000000e+00 -3.60012000e-01\n",
      "  7    0.00000000e+00  0.00000000e+00  0.00000000e+00  0.00000000e+00  0.00000000e+00\n",
      "  8    0.00000000e+00  0.00000000e+00  0.00000000e+00  0.00000000e+00 -2.71172000e-01\n",
      "\n",
      "     6               7               8\n",
      "  1    0.00000000e+00  0.00000000e+00  0.00000000e+00\n",
      "  2    0.00000000e+00  0.00000000e+00  0.00000000e+00\n",
      "  3    0.00000000e+00  0.00000000e+00  0.00000000e+00\n",
      "  4    0.00000000e+00  0.00000000e+00  0.00000000e+00\n",
      "  5   -3.60012000e-01  0.00000000e+00 -2.71172000e-01\n",
      "  6   -7.50947000e+00  0.00000000e+00 -3.41655000e-02\n",
      "  7    0.00000000e+00 -7.45475000e+00  0.00000000e+00\n",
      "  8   -3.41655000e-02  0.00000000e+00 -7.48927000e+00\n",
      "\n",
      "--------------------------------------------------------------------------------\n"
     ]
    }
   ],
   "source": [
    "outMatrix(tempF)"
   ]
  },
  {
   "cell_type": "code",
   "execution_count": 113,
   "id": "ff92297a",
   "metadata": {},
   "outputs": [
    {
     "name": "stdout",
     "output_type": "stream",
     "text": [
      "--------------------------------------------------------------------------------\n",
      "     1               2               3               4               5\n",
      "  1   -5.65762419e-02 -7.36372241e-01  3.65594800e-04 -5.53665278e-04  1.25614414e-08\n",
      "  2    4.12718314e-02  5.37149940e-01  3.31618288e-01 -5.02223977e-01  4.81075757e-07\n",
      "  3    2.70331898e-06 -2.06057874e-07  1.24493951e-04  8.23845386e-05  7.65337420e-01\n",
      "  4   -3.10535222e-02 -4.04175277e-01  4.40052261e-01 -6.66448785e-01  6.32989088e-07\n",
      "  5   -7.36372310e-01  5.65763166e-02  5.53686413e-04  3.66294822e-04  3.07178437e-06\n",
      "  6   -5.37149246e-01  4.12719087e-02 -5.02225220e-01 -3.31619259e-01  6.80794130e-05\n",
      "  7    0.00000000e+00  0.00000000e+00 -8.64734213e-07  6.95036745e-07  6.43629922e-01\n",
      "  8   -4.04176169e-01  3.10532756e-02  6.66447862e-01  4.40051505e-01 -9.13166032e-05\n",
      "\n",
      "     6               7               8\n",
      "  1    1.24957149e-08  6.72464139e-01  4.84432525e-02\n",
      "  2    4.31587686e-07  5.88025420e-01  4.23580533e-02\n",
      "  3   -6.43629892e-01 -2.29470856e-07  3.17848761e-06\n",
      "  4    5.63950820e-07 -4.43684382e-01 -3.19627610e-02\n",
      "  5   -2.57547850e-06  4.84433233e-02 -6.72464059e-01\n",
      "  6   -5.75213457e-05 -4.23582284e-02  5.88024420e-01\n",
      "  7    7.65337402e-01 -1.55790170e-08  0.00000000e+00\n",
      "  8    7.71462422e-05 -3.19624288e-02  4.43685731e-01\n",
      "\n",
      "--------------------------------------------------------------------------------\n"
     ]
    }
   ],
   "source": [
    "nbasis = 8\n",
    "NProt = 2 \n",
    "C = compute_MO(tempF, prot_V, nbasis)\n",
    "outMatrix(C)"
   ]
  },
  {
   "cell_type": "code",
   "execution_count": 114,
   "id": "a0df3539",
   "metadata": {},
   "outputs": [
    {
     "name": "stdout",
     "output_type": "stream",
     "text": [
      "--------------------------------------------------------------------------------\n",
      "     1               2               3               4               5\n",
      "  1    5.45444948e-01 -3.97877310e-01  0.00000000e+00  2.99380346e-01 -5.10791606e-08\n",
      "  2   -3.97877310e-01  2.90233422e-01  0.00000000e+00 -2.18384361e-01 -1.46873640e-06\n",
      "  3    0.00000000e+00  0.00000000e+00  0.00000000e+00  0.00000000e+00 -2.00230724e-06\n",
      "  4    2.99380346e-01 -2.18384361e-01  0.00000000e+00  1.64321976e-01  2.05435404e-07\n",
      "  5   -5.10791606e-08 -1.46873640e-06 -2.00230724e-06  2.05435404e-07  5.45445059e-01\n",
      "  6   -1.60223742e-06  7.02050156e-08 -1.46059015e-06 -7.09119307e-07  3.97876844e-01\n",
      "  7    0.00000000e+00  0.00000000e+00  0.00000000e+00  0.00000000e+00  0.00000000e+00\n",
      "  8    0.00000000e+00 -8.25578835e-07 -1.09901588e-06  1.27375667e-07  2.99381020e-01\n",
      "\n",
      "     6               7               8\n",
      "  1   -1.60223742e-06  0.00000000e+00  0.00000000e+00\n",
      "  2    7.02050156e-08  0.00000000e+00 -8.25578835e-07\n",
      "  3   -1.46059015e-06  0.00000000e+00 -1.09901588e-06\n",
      "  4   -7.09119307e-07  0.00000000e+00  1.27375667e-07\n",
      "  5    3.97876844e-01  0.00000000e+00  2.99381020e-01\n",
      "  6    2.90232683e-01  0.00000000e+00  2.18384553e-01\n",
      "  7    0.00000000e+00  0.00000000e+00  0.00000000e+00\n",
      "  8    2.18384553e-01  0.00000000e+00  1.64322682e-01\n",
      "\n",
      "--------------------------------------------------------------------------------\n"
     ]
    }
   ],
   "source": [
    "P1Manual = compute_density(C, nbasis, NProt)\n",
    "outMatrix(P1Manual/2)"
   ]
  },
  {
   "cell_type": "code",
   "execution_count": 95,
   "id": "1ce1d645",
   "metadata": {},
   "outputs": [
    {
     "data": {
      "text/plain": [
       "4.000001539350061"
      ]
     },
     "execution_count": 95,
     "metadata": {},
     "output_type": "execute_result"
    }
   ],
   "source": [
    "np.trace(P1Manual)"
   ]
  },
  {
   "cell_type": "code",
   "execution_count": null,
   "id": "a37244d1",
   "metadata": {},
   "outputs": [],
   "source": []
  },
  {
   "cell_type": "code",
   "execution_count": null,
   "id": "fe6db842",
   "metadata": {},
   "outputs": [],
   "source": []
  },
  {
   "cell_type": "code",
   "execution_count": null,
   "id": "87637c7d",
   "metadata": {},
   "outputs": [],
   "source": []
  },
  {
   "cell_type": "code",
   "execution_count": null,
   "id": "409dc4bb",
   "metadata": {},
   "outputs": [],
   "source": []
  },
  {
   "cell_type": "code",
   "execution_count": null,
   "id": "74af3f26",
   "metadata": {},
   "outputs": [],
   "source": []
  },
  {
   "cell_type": "code",
   "execution_count": 52,
   "id": "bf31cc51",
   "metadata": {},
   "outputs": [],
   "source": [
    "dim = 12\n",
    "lenvec = 144\n",
    "raw_vec = [2.07180697154,\n",
    "-0.22194607781,\n",
    "-0.00000000000,\n",
    "-0.00000000000,\n",
    "0.01799713641,\n",
    "0.01191402458,\n",
    "-0.00669405223,\n",
    "0.00000000000,\n",
    "0.00000000000,\n",
    "0.14728047977,\n",
    "-0.11088347368,\n",
    "-0.11088347368,\n",
    "-0.22194607781,\n",
    "0.83595330929,\n",
    "-0.00000000000,\n",
    "0.00000000000,\n",
    "-0.07620970563,\n",
    "-0.00186046381,\n",
    "-0.17558012068,\n",
    "0.00000000000,\n",
    "0.00000000000,\n",
    "-0.41845256663,\n",
    "0.29107087397,\n",
    "0.29107087397,\n",
    "-0.00000000000,\n",
    "-0.00000000000,\n",
    "0.63195977361,\n",
    "0.00000000000,\n",
    "0.00000000000,\n",
    "0.00000000000,\n",
    "-0.00000000000,\n",
    "0.14056275723,\n",
    "0.00000000000,\n",
    "-0.00000000000,\n",
    "0.44560156695,\n",
    "-0.44560156695,\n",
    "-0.00000000000,\n",
    "0.00000000000,\n",
    "0.00000000000,\n",
    "0.75779457814,\n",
    "0.00000000000,\n",
    "0.00000000000,\n",
    "-0.00000000000,\n",
    "0.00000000000,\n",
    "0.82578041826,\n",
    "-0.00000000000,\n",
    "-0.00000000000,\n",
    "0.00000000000,\n",
    "0.01799713641,\n",
    "-0.07620970563,\n",
    "0.00000000000,\n",
    "0.00000000000,\n",
    "0.55540197393,\n",
    "-0.04249796935,\n",
    "-0.00864361432,\n",
    "-0.00000000000,\n",
    "-0.00000000000,\n",
    "-0.59352875102,\n",
    "-0.25178176297,\n",
    "-0.25178176297,\n",
    "0.01191402458,\n",
    "-0.00186046381,\n",
    "0.00000000000,\n",
    "0.00000000000,\n",
    "-0.04249796935,\n",
    "2.11065208892,\n",
    "-0.46460455593,\n",
    "0.00000000000,\n",
    "0.00000000000,\n",
    "-0.09556119710,\n",
    "0.01025198722,\n",
    "0.01025198722,\n",
    "-0.00669405223,\n",
    "-0.17558012068,\n",
    "-0.00000000000,\n",
    "-0.00000000000,\n",
    "-0.00864361432,\n",
    "-0.46460455593,\n",
    "2.05091561975,\n",
    "0.00000000000,\n",
    "-0.00000000000,\n",
    "0.55170134793,\n",
    "-0.02562920309,\n",
    "-0.02562920309,\n",
    "0.00000000000,\n",
    "0.00000000000,\n",
    "0.14056275723,\n",
    "0.00000000000,\n",
    "-0.00000000000,\n",
    "0.00000000000,\n",
    "0.00000000000,\n",
    "1.91972212018,\n",
    "-0.00000000000,\n",
    "-0.00000000000,\n",
    "-0.35172130116,\n",
    "0.35172130116,\n",
    "0.00000000000,\n",
    "0.00000000000,\n",
    "0.00000000000,\n",
    "0.82578041826,\n",
    "-0.00000000000,\n",
    "0.00000000000,\n",
    "-0.00000000000,\n",
    "-0.00000000000,\n",
    "0.89986563490,\n",
    "0.00000000000,\n",
    "-0.00000000000,\n",
    "0.00000000000,\n",
    "0.14728047977,\n",
    "-0.41845256663,\n",
    "-0.00000000000,\n",
    "-0.00000000000,\n",
    "-0.59352875102,\n",
    "-0.09556119710,\n",
    "0.55170134793,\n",
    "-0.00000000000,\n",
    "0.00000000000,\n",
    "1.03318837766,\n",
    "0.11847151537,\n",
    "0.11847151537,\n",
    "-0.11088347368,\n",
    "0.29107087397,\n",
    "0.44560156695,\n",
    "-0.00000000000,\n",
    "-0.25178176297,\n",
    "0.01025198722,\n",
    "-0.02562920309,\n",
    "-0.35172130116,\n",
    "-0.00000000000,\n",
    "0.11847151537,\n",
    "0.61657149380,\n",
    "-0.22708134196,\n",
    "-0.11088347368,\n",
    "0.29107087397,\n",
    "-0.44560156695,\n",
    "0.00000000000,\n",
    "-0.25178176297,\n",
    "0.01025198722,\n",
    "-0.02562920309,\n",
    "0.35172130116,\n",
    "0.00000000000,\n",
    "0.11847151537,\n",
    "-0.22708134196,\n",
    "0.61657149380]"
   ]
  },
  {
   "cell_type": "code",
   "execution_count": 61,
   "id": "be588510",
   "metadata": {},
   "outputs": [],
   "source": [
    "mat = np.zeros((dim,dim))\n",
    "\n",
    "for row in range(dim):\n",
    "    for col in range(dim):\n",
    "        mat[row,col] = raw_vec[col*dim+row]"
   ]
  },
  {
   "cell_type": "code",
   "execution_count": 62,
   "id": "861d53ff",
   "metadata": {},
   "outputs": [
    {
     "name": "stdout",
     "output_type": "stream",
     "text": [
      "--------------------------------------------------------------------------------\n",
      "     1               2               3               4               5\n",
      "  1    2.07180697e+00 -2.21946078e-01  0.00000000e+00  0.00000000e+00  1.79971364e-02\n",
      "  2   -2.21946078e-01  8.35953309e-01  0.00000000e+00  0.00000000e+00 -7.62097056e-02\n",
      "  3    0.00000000e+00  0.00000000e+00  6.31959774e-01  0.00000000e+00  0.00000000e+00\n",
      "  4    0.00000000e+00  0.00000000e+00  0.00000000e+00  7.57794578e-01  0.00000000e+00\n",
      "  5    1.79971364e-02 -7.62097056e-02  0.00000000e+00  0.00000000e+00  5.55401974e-01\n",
      "  6    1.19140246e-02 -1.86046381e-03  0.00000000e+00  0.00000000e+00 -4.24979693e-02\n",
      "  7   -6.69405223e-03 -1.75580121e-01  0.00000000e+00  0.00000000e+00 -8.64361432e-03\n",
      "  8    0.00000000e+00  0.00000000e+00  1.40562757e-01  0.00000000e+00  0.00000000e+00\n",
      "  9    0.00000000e+00  0.00000000e+00  0.00000000e+00  8.25780418e-01  0.00000000e+00\n",
      " 10    1.47280480e-01 -4.18452567e-01  0.00000000e+00  0.00000000e+00 -5.93528751e-01\n",
      " 11   -1.10883474e-01  2.91070874e-01  4.45601567e-01  0.00000000e+00 -2.51781763e-01\n",
      " 12   -1.10883474e-01  2.91070874e-01 -4.45601567e-01  0.00000000e+00 -2.51781763e-01\n",
      "\n",
      "     6               7               8               9               10\n",
      "  1    1.19140246e-02 -6.69405223e-03  0.00000000e+00  0.00000000e+00  1.47280480e-01\n",
      "  2   -1.86046381e-03 -1.75580121e-01  0.00000000e+00  0.00000000e+00 -4.18452567e-01\n",
      "  3    0.00000000e+00  0.00000000e+00  1.40562757e-01  0.00000000e+00  0.00000000e+00\n",
      "  4    0.00000000e+00  0.00000000e+00  0.00000000e+00  8.25780418e-01  0.00000000e+00\n",
      "  5   -4.24979693e-02 -8.64361432e-03  0.00000000e+00  0.00000000e+00 -5.93528751e-01\n",
      "  6    2.11065209e+00 -4.64604556e-01  0.00000000e+00  0.00000000e+00 -9.55611971e-02\n",
      "  7   -4.64604556e-01  2.05091562e+00  0.00000000e+00  0.00000000e+00  5.51701348e-01\n",
      "  8    0.00000000e+00  0.00000000e+00  1.91972212e+00  0.00000000e+00  0.00000000e+00\n",
      "  9    0.00000000e+00  0.00000000e+00  0.00000000e+00  8.99865635e-01  0.00000000e+00\n",
      " 10   -9.55611971e-02  5.51701348e-01  0.00000000e+00  0.00000000e+00  1.03318838e+00\n",
      " 11    1.02519872e-02 -2.56292031e-02 -3.51721301e-01  0.00000000e+00  1.18471515e-01\n",
      " 12    1.02519872e-02 -2.56292031e-02  3.51721301e-01  0.00000000e+00  1.18471515e-01\n",
      "\n",
      "     11               12\n",
      "  1   -1.10883474e-01 -1.10883474e-01\n",
      "  2    2.91070874e-01  2.91070874e-01\n",
      "  3    4.45601567e-01 -4.45601567e-01\n",
      "  4    0.00000000e+00  0.00000000e+00\n",
      "  5   -2.51781763e-01 -2.51781763e-01\n",
      "  6    1.02519872e-02  1.02519872e-02\n",
      "  7   -2.56292031e-02 -2.56292031e-02\n",
      "  8   -3.51721301e-01  3.51721301e-01\n",
      "  9    0.00000000e+00  0.00000000e+00\n",
      " 10    1.18471515e-01  1.18471515e-01\n",
      " 11    6.16571494e-01 -2.27081342e-01\n",
      " 12   -2.27081342e-01  6.16571494e-01\n",
      "\n",
      "--------------------------------------------------------------------------------\n"
     ]
    }
   ],
   "source": [
    "outMatrix(mat)"
   ]
  },
  {
   "cell_type": "code",
   "execution_count": 67,
   "id": "f1204c80",
   "metadata": {},
   "outputs": [
    {
     "name": "stdout",
     "output_type": "stream",
     "text": [
      "2.07180697154\n",
      "-0.22194607781\n",
      "0.83595330929\n",
      "-0.0\n",
      "-0.0\n",
      "0.63195977361\n",
      "-0.0\n",
      "0.0\n",
      "0.0\n",
      "0.75779457814\n",
      "0.01799713641\n",
      "-0.07620970563\n",
      "0.0\n",
      "0.0\n",
      "0.55540197393\n",
      "0.01191402458\n",
      "-0.00186046381\n",
      "0.0\n",
      "0.0\n",
      "-0.04249796935\n",
      "2.11065208892\n",
      "-0.00669405223\n",
      "-0.17558012068\n",
      "-0.0\n",
      "-0.0\n",
      "-0.00864361432\n",
      "-0.46460455593\n",
      "2.05091561975\n",
      "0.0\n",
      "0.0\n",
      "0.14056275723\n",
      "0.0\n",
      "-0.0\n",
      "0.0\n",
      "0.0\n",
      "1.91972212018\n",
      "0.0\n",
      "0.0\n",
      "0.0\n",
      "0.82578041826\n",
      "-0.0\n",
      "0.0\n",
      "-0.0\n",
      "-0.0\n",
      "0.8998656349\n",
      "0.14728047977\n",
      "-0.41845256663\n",
      "-0.0\n",
      "-0.0\n",
      "-0.59352875102\n",
      "-0.0955611971\n",
      "0.55170134793\n",
      "-0.0\n",
      "0.0\n",
      "1.03318837766\n",
      "-0.11088347368\n",
      "0.29107087397\n",
      "0.44560156695\n",
      "-0.0\n",
      "-0.25178176297\n",
      "0.01025198722\n",
      "-0.02562920309\n",
      "-0.35172130116\n",
      "-0.0\n",
      "0.11847151537\n",
      "0.6165714938\n",
      "-0.11088347368\n",
      "0.29107087397\n",
      "-0.44560156695\n",
      "0.0\n",
      "-0.25178176297\n",
      "0.01025198722\n",
      "-0.02562920309\n",
      "0.35172130116\n",
      "0.0\n",
      "0.11847151537\n",
      "-0.22708134196\n",
      "0.6165714938\n"
     ]
    }
   ],
   "source": [
    "count = 0\n",
    "for i in range(dim):\n",
    "    for j in range(i+1):\n",
    "        print(mat[j,i])\n",
    "        count+=1\n"
   ]
  },
  {
   "cell_type": "code",
   "execution_count": 68,
   "id": "bb1c7a7f",
   "metadata": {},
   "outputs": [
    {
     "data": {
      "text/plain": [
       "78"
      ]
     },
     "execution_count": 68,
     "metadata": {},
     "output_type": "execute_result"
    }
   ],
   "source": [
    "count"
   ]
  },
  {
   "cell_type": "code",
   "execution_count": 69,
   "id": "f6574087",
   "metadata": {},
   "outputs": [
    {
     "data": {
      "text/plain": [
       "-4.003270108278"
      ]
     },
     "execution_count": 69,
     "metadata": {},
     "output_type": "execute_result"
    }
   ],
   "source": [
    "np.trace(np.dot(Fp1,Pp1))"
   ]
  },
  {
   "cell_type": "code",
   "execution_count": null,
   "id": "3f65e638",
   "metadata": {},
   "outputs": [],
   "source": []
  }
 ],
 "metadata": {
  "kernelspec": {
   "display_name": "Python 3",
   "language": "python",
   "name": "python3"
  },
  "language_info": {
   "codemirror_mode": {
    "name": "ipython",
    "version": 3
   },
   "file_extension": ".py",
   "mimetype": "text/x-python",
   "name": "python",
   "nbconvert_exporter": "python",
   "pygments_lexer": "ipython3",
   "version": "3.8.8"
  }
 },
 "nbformat": 4,
 "nbformat_minor": 5
}
